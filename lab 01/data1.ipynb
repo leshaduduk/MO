{
 "cells": [
  {
   "cell_type": "code",
   "execution_count": 22,
   "metadata": {},
   "outputs": [],
   "source": [
    "from importlib import reload\n",
    "import itertools\n",
    "import os\n",
    "\n",
    "import pandas as pd\n",
    "import numpy as np\n",
    "%matplotlib widget\n",
    "import matplotlib.pyplot as plt\n",
    "from mpl_toolkits import mplot3d\n",
    "\n",
    "import main"
   ]
  },
  {
   "cell_type": "code",
   "execution_count": 71,
   "metadata": {},
   "outputs": [
    {
     "data": {
      "text/plain": [
       "<module 'main' from '/mnt/d/Study/ML/labs/lab1/main.py'>"
      ]
     },
     "execution_count": 71,
     "metadata": {},
     "output_type": "execute_result"
    }
   ],
   "source": [
    "reload(main)"
   ]
  },
  {
   "cell_type": "code",
   "execution_count": 7,
   "metadata": {},
   "outputs": [
    {
     "ename": "FileNotFoundError",
     "evalue": "[Errno 2] No such file or directory: 'lab1'",
     "output_type": "error",
     "traceback": [
      "\u001b[0;31m---------------------------------------------------------------------------\u001b[0m",
      "\u001b[0;31mFileNotFoundError\u001b[0m                         Traceback (most recent call last)",
      "\u001b[0;32m<ipython-input-7-7560159c9004>\u001b[0m in \u001b[0;36m<module>\u001b[0;34m\u001b[0m\n\u001b[0;32m----> 1\u001b[0;31m \u001b[0mos\u001b[0m\u001b[0;34m.\u001b[0m\u001b[0mchdir\u001b[0m\u001b[0;34m(\u001b[0m\u001b[0;34m'lab1'\u001b[0m\u001b[0;34m)\u001b[0m\u001b[0;34m\u001b[0m\u001b[0;34m\u001b[0m\u001b[0m\n\u001b[0m",
      "\u001b[0;31mFileNotFoundError\u001b[0m: [Errno 2] No such file or directory: 'lab1'"
     ]
    }
   ],
   "source": [
    "os.chdir('lab1')"
   ]
  },
  {
   "cell_type": "code",
   "execution_count": 81,
   "metadata": {},
   "outputs": [
    {
     "name": "stdout",
     "output_type": "stream",
     "text": [
      "    population   revenue\n",
      "0       6.1101  17.59200\n",
      "1       5.5277   9.13020\n",
      "2       8.5186  13.66200\n",
      "3       7.0032  11.85400\n",
      "4       5.8598   6.82330\n",
      "..         ...       ...\n",
      "92      5.8707   7.20290\n",
      "93      5.3054   1.98690\n",
      "94      8.2934   0.14454\n",
      "95     13.3940   9.05510\n",
      "96      5.4369   0.61705\n",
      "\n",
      "[97 rows x 2 columns]\n"
     ]
    }
   ],
   "source": [
    "df = pd.read_csv('ex1data1.csv', header=None, names=['population', 'revenue'])\n",
    "print(df)"
   ]
  },
  {
   "cell_type": "code",
   "execution_count": 82,
   "metadata": {},
   "outputs": [
    {
     "data": {
      "image/png": "[encoded data removed]",
      "text/plain": [
       "<Figure size 432x288 with 1 Axes>"
      ]
     },
     "metadata": {
      "needs_background": "light"
     },
     "output_type": "display_data"
    }
   ],
   "source": [
    "%matplotlib inline\n",
    "import matplotlib.pyplot as plt\n",
    "\n",
    "plot = df.plot(x='population', y='revenue', kind='scatter')"
   ]
  },
  {
   "cell_type": "code",
   "execution_count": 84,
   "metadata": {},
   "outputs": [],
   "source": [
    "theta_0 = pd.Series(0, index=range(len(df.columns)))\n",
    "x = main.create_design_matrix(df.population)\n",
    "y = df.revenue"
   ]
  },
  {
   "cell_type": "code",
   "execution_count": 89,
   "metadata": {},
   "outputs": [
    {
     "name": "stdout",
     "output_type": "stream",
     "text": [
      "0   -2.150643\n",
      "1    1.017716\n",
      "dtype: float64\n",
      "Finished in 4568 iterations\n"
     ]
    }
   ],
   "source": [
    "alpha = 0.001\n",
    "sensitivity = 0.0001\n",
    "\n",
    "prev_loss = float('inf')\n",
    "theta = None\n",
    "count = 0\n",
    "_progress = []\n",
    "for current_theta, loss in main.gradient_descent(theta_0, x, y, alpha):\n",
    "    _progress.append((current_theta[0], current_theta[1], loss))\n",
    "    count += 1\n",
    "    delta = prev_loss - loss\n",
    "    if delta < 0:\n",
    "        raise ValueError('Loss increases. Decrease the learning rate')\n",
    "    if delta < sensitivity:\n",
    "        theta = current_theta\n",
    "        break\n",
    "    prev_loss = loss\n",
    "\n",
    "print(theta)\n",
    "print('Finished in {} iterations'.format(count))\n",
    "\n",
    "progress = pd.DataFrame.from_records(_progress, columns=['theta0', 'theta1', 'loss'])\n",
    "# TODO: measure time, select alpha using subset of data"
   ]
  },
  {
   "cell_type": "code",
   "execution_count": 30,
   "metadata": {},
   "outputs": [
    {
     "name": "stdout",
     "output_type": "stream",
     "text": [
      "   population    revenue\n",
      "0      5.0269   2.964267\n",
      "1     22.2030  20.448293\n"
     ]
    }
   ],
   "source": [
    "hypothesis = lambda xi: theta.dot(pd.DataFrame([1, xi]))\n",
    "hypothesis_data = pd.DataFrame([\n",
    "    [df.population.min(), hypothesis(df.population.min())], \n",
    "    [df.population.max(), hypothesis(df.population.max())]\n",
    "], columns=df.columns).astype('float64')\n",
    "print(hypothesis_data)"
   ]
  },
  {
   "cell_type": "code",
   "execution_count": 31,
   "metadata": {},
   "outputs": [
    {
     "data": {
      "image/png": "[encoded data removed]",
      "text/plain": [
       "<Figure size 432x288 with 1 Axes>"
      ]
     },
     "metadata": {
      "needs_background": "light"
     },
     "output_type": "display_data"
    }
   ],
   "source": [
    "%matplotlib inline\n",
    "import matplotlib.pyplot as plt\n",
    "\n",
    "plt.figure()\n",
    "plt.scatter(df.population, df.revenue)\n",
    "plt.plot(hypothesis_data.population, hypothesis_data.revenue, color='red')\n",
    "plt.show()"
   ]
  },
  {
   "cell_type": "code",
   "execution_count": 88,
   "metadata": {},
   "outputs": [
    {
     "data": {
      "application/vnd.jupyter.widget-view+json": {
       "model_id": "86409256cbcf4f0997a54e7eacc828fe",
       "version_major": 2,
       "version_minor": 0
      },
      "text/plain": [
       "Canvas(toolbar=Toolbar(toolitems=[('Home', 'Reset original view', 'home', 'home'), ('Back', 'Back to previous …"
      ]
     },
     "metadata": {},
     "output_type": "display_data"
    }
   ],
   "source": [
    "%matplotlib widget\n",
    "import matplotlib.pyplot as plt\n",
    "\n",
    "def extended_borders(series):\n",
    "    min = series.min()\n",
    "    max = series.max()\n",
    "    width = max - min\n",
    "    mean = (max + min) / 2\n",
    "    return (mean - width, mean + width)\n",
    "\n",
    "theta0_borders = extended_borders(progress.theta0)\n",
    "theta1_borders = extended_borders(progress.theta1)\n",
    "grid = np.meshgrid(\n",
    "    np.linspace(theta0_borders[0], theta0_borders[1], 30),\n",
    "    np.linspace(theta1_borders[0], theta1_borders[1], 30)\n",
    ")\n",
    "Z = np.apply_along_axis(\n",
    "    main.linear_loss_function, 2, np.dstack(grid), x, y\n",
    ")\n",
    "\n",
    "fig = plt.figure()\n",
    "\n",
    "ax = fig.add_subplot(111, projection='3d')\n",
    "ax.plot(progress.theta0, progress.theta1, progress.loss, color='red')\n",
    "ax.plot_wireframe(grid[0], grid[1], Z, color='green')\n",
    "# TODO: show contour\n",
    "#ax.contourf(grid[0], grid[1], Z)\n",
    "\n",
    "plt.show()"
   ]
  }
 ],
 "metadata": {
  "kernelspec": {
   "display_name": "Python 3",
   "language": "python",
   "name": "python3"
  },
  "language_info": {
   "codemirror_mode": {
    "name": "ipython",
    "version": 3
   },
   "file_extension": ".py",
   "mimetype": "text/x-python",
   "name": "python",
   "nbconvert_exporter": "python",
   "pygments_lexer": "ipython3",
   "version": "3.6.8"
  }
 },
 "nbformat": 4,
 "nbformat_minor": 2
}

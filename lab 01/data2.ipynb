{
 "cells": [
  {
   "cell_type": "code",
   "execution_count": 1,
   "metadata": {},
   "outputs": [],
   "source": [
    "from importlib import reload\n",
    "import itertools\n",
    "import os\n",
    "\n",
    "import pandas as pd\n",
    "import numpy as np\n",
    "\n",
    "import main"
   ]
  },
  {
   "cell_type": "code",
   "execution_count": 26,
   "metadata": {},
   "outputs": [
    {
     "data": {
      "text/plain": [
       "<module 'main' from '/mnt/d/Study/ML/labs/lab1/main.py'>"
      ]
     },
     "execution_count": 26,
     "metadata": {},
     "output_type": "execute_result"
    }
   ],
   "source": [
    "reload(main)"
   ]
  },
  {
   "cell_type": "code",
   "execution_count": 6,
   "metadata": {},
   "outputs": [
    {
     "ename": "FileNotFoundError",
     "evalue": "[Errno 2] No such file or directory: 'lab1'",
     "output_type": "error",
     "traceback": [
      "\u001b[0;31m---------------------------------------------------------------------------\u001b[0m",
      "\u001b[0;31mFileNotFoundError\u001b[0m                         Traceback (most recent call last)",
      "\u001b[0;32m<ipython-input-6-7560159c9004>\u001b[0m in \u001b[0;36m<module>\u001b[0;34m\u001b[0m\n\u001b[0;32m----> 1\u001b[0;31m \u001b[0mos\u001b[0m\u001b[0;34m.\u001b[0m\u001b[0mchdir\u001b[0m\u001b[0;34m(\u001b[0m\u001b[0;34m'lab1'\u001b[0m\u001b[0;34m)\u001b[0m\u001b[0;34m\u001b[0m\u001b[0;34m\u001b[0m\u001b[0m\n\u001b[0m",
      "\u001b[0;31mFileNotFoundError\u001b[0m: [Errno 2] No such file or directory: 'lab1'"
     ]
    }
   ],
   "source": [
    "os.chdir('lab1')"
   ]
  },
  {
   "cell_type": "code",
   "execution_count": 2,
   "metadata": {},
   "outputs": [],
   "source": [
    "df = pd.read_csv('ex1data2.csv', header=None, names=['area', 'rooms', 'price'])\n",
    "df = main.normalize(df)"
   ]
  },
  {
   "cell_type": "code",
   "execution_count": 3,
   "metadata": {},
   "outputs": [],
   "source": [
    "theta_0 = pd.Series(0, index=range(len(df.columns)))\n",
    "x = main.create_design_matrix(df[['area', 'rooms']])\n",
    "y = df.price"
   ]
  },
  {
   "cell_type": "code",
   "execution_count": 4,
   "metadata": {},
   "outputs": [],
   "source": [
    "def run(alpha, sensitivity, theta_0, x, y):\n",
    "    prev_loss = None\n",
    "    theta = None\n",
    "    _progress = []\n",
    "    for current_theta, loss in main.gradient_descent(theta_0, x, y, alpha):\n",
    "        _progress.append((current_theta[0], current_theta[1], loss))\n",
    "        delta = (prev_loss - loss) / loss if prev_loss is not None else sensitivity\n",
    "        if delta < 0:\n",
    "            raise ValueError('Loss increases. Decrease the learning rate')\n",
    "        if delta < sensitivity:\n",
    "            theta = current_theta\n",
    "            break\n",
    "        prev_loss = loss\n",
    "    progress = pd.DataFrame.from_records(_progress, columns=['theta0', 'theta1', 'loss'])\n",
    "    return progress\n",
    "\n",
    "\n",
    "def run_safe(*args):\n",
    "    try:\n",
    "        return run(*args)\n",
    "    except ValueError:\n",
    "        return None"
   ]
  },
  {
   "cell_type": "code",
   "execution_count": 5,
   "metadata": {},
   "outputs": [
    {
     "name": "stdout",
     "output_type": "stream",
     "text": [
      "Finished in 82 iterations. Final loss: 0.00747450025437374\n"
     ]
    }
   ],
   "source": [
    "alpha = 1\n",
    "sensitivity = 0.001\n",
    "    \n",
    "progress = run(alpha, sensitivity, theta_0, x, y)\n",
    "print('Finished in {} iterations. Final loss: {}'.format(len(progress), progress.iloc[-1][2]))"
   ]
  },
  {
   "cell_type": "code",
   "execution_count": 6,
   "metadata": {},
   "outputs": [],
   "source": [
    "def get_results():\n",
    "    for alpha in np.logspace(-5, 1.5, 11):\n",
    "        progress = run_safe(alpha, sensitivity, theta_0, x, y)\n",
    "        if progress is not None:\n",
    "            yield (alpha, len(progress), progress.loss.iloc[-1])\n",
    "\n",
    "            \n",
    "results = pd.DataFrame(get_results())"
   ]
  },
  {
   "cell_type": "code",
   "execution_count": 19,
   "metadata": {},
   "outputs": [
    {
     "data": {
      "application/vnd.jupyter.widget-view+json": {
       "model_id": "e034092762594a8b96f571a28c150866",
       "version_major": 2,
       "version_minor": 0
      },
      "text/plain": [
       "Canvas(toolbar=Toolbar(toolitems=[('Home', 'Reset original view', 'home', 'home'), ('Back', 'Back to previous …"
      ]
     },
     "metadata": {},
     "output_type": "display_data"
    }
   ],
   "source": [
    "%matplotlib widget\n",
    "import matplotlib.pyplot as plt\n",
    "from mpl_toolkits.mplot3d import Axes3D  # noqa: F401 unused import\n",
    "\n",
    "fig = plt.figure()\n",
    "ax = fig.add_subplot(211, projection='3d')\n",
    "ax.plot(\n",
    "    results[0],\n",
    "    results[1],\n",
    "    results[2]\n",
    ")\n",
    "\n",
    "plt.xlabel('Learning rate')\n",
    "plt.ylabel('Iteration count')\n",
    "\n",
    "bx = fig.add_subplot(223)\n",
    "bx.semilogx(results[0], results[2])\n",
    "\n",
    "plt.xlabel('Learning rate')\n",
    "plt.ylabel('Loss')\n",
    "\n",
    "cx = fig.add_subplot(224)\n",
    "cx.semilogx(results[0], results[1])\n",
    "\n",
    "plt.xlabel('Learning rate')\n",
    "plt.ylabel('Iteration count')\n",
    "\n",
    "plt.show()"
   ]
  },
  {
   "cell_type": "code",
   "execution_count": 8,
   "metadata": {},
   "outputs": [
    {
     "name": "stdout",
     "output_type": "stream",
     "text": [
      "Absolute minimum loss: 0.0072740478839545325\n"
     ]
    }
   ],
   "source": [
    "analytic = main.analytic_solution(x, y)\n",
    "\n",
    "loss = main.linear_loss_function(analytic, x, y)\n",
    "print('Absolute minimum loss:', loss)"
   ]
  }
 ],
 "metadata": {
  "kernelspec": {
   "display_name": "Python 3",
   "language": "python",
   "name": "python3"
  },
  "language_info": {
   "codemirror_mode": {
    "name": "ipython",
    "version": 3
   },
   "file_extension": ".py",
   "mimetype": "text/x-python",
   "name": "python",
   "nbconvert_exporter": "python",
   "pygments_lexer": "ipython3",
   "version": "3.6.8"
  }
 },
 "nbformat": 4,
 "nbformat_minor": 2
}

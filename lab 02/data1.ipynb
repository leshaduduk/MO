{
 "cells": [
  {
   "cell_type": "code",
   "execution_count": 2,
   "metadata": {},
   "outputs": [],
   "source": [
    "from importlib import reload\n",
    "import itertools\n",
    "\n",
    "import pandas as pd\n",
    "import numpy as np\n",
    "\n",
    "%load_ext autoreload\n",
    "%autoreload 2\n",
    "import main"
   ]
  },
  {
   "cell_type": "code",
   "execution_count": null,
   "metadata": {},
   "outputs": [],
   "source": [
    "import os\n",
    "\n",
    "os.chdir('lab2')"
   ]
  },
  {
   "cell_type": "code",
   "execution_count": 11,
   "metadata": {},
   "outputs": [
    {
     "name": "stderr",
     "output_type": "stream",
     "text": [
      "/mnt/d/Study/ML/venv/lib/python3.6/site-packages/numpy/core/fromnumeric.py:2495: FutureWarning: Method .ptp is deprecated and will be removed in a future version. Use numpy.ptp instead.\n",
      "  return ptp(axis=axis, out=out, **kwargs)\n"
     ]
    }
   ],
   "source": [
    "df = pd.read_csv('ex2data1.txt', header=None, names=['first_exam', 'second_exam', 'is_accepted'])\n",
    "x, means, widths = main.create_design_matrix(df[['first_exam', 'second_exam']])\n",
    "y = df.is_accepted"
   ]
  },
  {
   "cell_type": "code",
   "execution_count": 12,
   "metadata": {},
   "outputs": [
    {
     "data": {
      "image/png": "[encoded data removed]",
      "text/plain": [
       "<Figure size 432x288 with 1 Axes>"
      ]
     },
     "metadata": {
      "needs_background": "light"
     },
     "output_type": "display_data"
    }
   ],
   "source": [
    "%matplotlib inline\n",
    "import matplotlib.pyplot as plt\n",
    "\n",
    "is_accepted = df[df.is_accepted == 1]\n",
    "is_not_accepted = df[df.is_accepted == 0]\n",
    "plt.scatter(is_accepted.first_exam, is_accepted.second_exam, c='blue')\n",
    "plt.scatter(is_not_accepted.first_exam, is_not_accepted.second_exam, c='red')\n",
    "plt.xlabel('first exam')\n",
    "plt.ylabel('second exam')\n",
    "\n",
    "plt.show()"
   ]
  },
  {
   "cell_type": "code",
   "execution_count": 5,
   "metadata": {},
   "outputs": [
    {
     "name": "stdout",
     "output_type": "stream",
     "text": [
      "Finished in 230 iterations. Final loss: 0.2671191576745931\n"
     ]
    }
   ],
   "source": [
    "alpha = 1\n",
    "sensitivity = 0.001\n",
    "theta_0 = pd.Series(0, index=range(len(df.columns)))\n",
    "\n",
    "prev_loss = None\n",
    "theta = None\n",
    "_progress = []\n",
    "for current_theta, loss in main.gradient_descent(theta_0, x, y, alpha):\n",
    "    _progress.append(loss)\n",
    "    delta = 0 if loss == 0 \\\n",
    "        else sensitivity if prev_loss is None \\\n",
    "        else (prev_loss - loss) / loss\n",
    "    if delta < 0:\n",
    "        raise ValueError('Loss increases. Decrease the learning rate')\n",
    "    if delta < sensitivity:\n",
    "        theta = current_theta\n",
    "        break\n",
    "    prev_loss = loss\n",
    "progress = pd.DataFrame(_progress)\n",
    "\n",
    "print('Finished in {} iterations. Final loss: {}'.format(len(progress), progress.iloc[-1][0]))"
   ]
  },
  {
   "cell_type": "code",
   "execution_count": 27,
   "metadata": {},
   "outputs": [
    {
     "data": {
      "text/plain": [
       "0.46570986445565415"
      ]
     },
     "execution_count": 27,
     "metadata": {},
     "output_type": "execute_result"
    }
   ],
   "source": [
    "def hypothesis(sample):\n",
    "    sample = np.insert(sample, 0, 1)\n",
    "    normalized = main.normalize_known(sample, means, widths)\n",
    "    return main.logistic_hypothesis(normalized, theta)\n",
    "\n",
    "hypothesis([80, 40])"
   ]
  },
  {
   "cell_type": "code",
   "execution_count": 7,
   "metadata": {},
   "outputs": [
    {
     "name": "stdout",
     "output_type": "stream",
     "text": [
      "Our solution:\n",
      "Loss: 0.2671191576745931\n",
      "[0.76532493 6.14783817 5.64333552]\n",
      "Nelder-Mead solution:\n",
      "Loss: 0.693122188372445\n",
      "[0.00025 0.      0.     ]\n",
      "BFGS solution:\n",
      "Loss: 0.2035080571439959\n",
      "[ 1.72920416 14.32795398 13.73252897]\n"
     ]
    }
   ],
   "source": [
    "from scipy.optimize import minimize\n",
    "\n",
    "print('Our solution:')\n",
    "print('Loss: {}'.format(progress.iloc[-1][0]))\n",
    "print(np.array(theta))\n",
    "\n",
    "func = lambda _theta: main.logistic_loss(_theta, x, y)\n",
    "\n",
    "# NOTE: we terminate by relative sensitivity\n",
    "\n",
    "result = minimize(func, theta_0, method='Nelder-Mead', tol=sensitivity)\n",
    "print('Nelder-Mead solution:')\n",
    "print('Loss: {}'.format(result.fun))\n",
    "print(result.x)\n",
    "\n",
    "result = minimize(func, theta_0, method='BFGS', tol=sensitivity)\n",
    "print('BFGS solution:')\n",
    "print('Loss: {}'.format(result.fun))\n",
    "print(result.x)"
   ]
  },
  {
   "cell_type": "code",
   "execution_count": 23,
   "metadata": {},
   "outputs": [
    {
     "data": {
      "image/png": "[encoded data removed]",
      "text/plain": [
       "<Figure size 432x288 with 1 Axes>"
      ]
     },
     "metadata": {
      "needs_background": "light"
     },
     "output_type": "display_data"
    }
   ],
   "source": [
    "%matplotlib inline\n",
    "import matplotlib.pyplot as plt\n",
    "\n",
    "is_accepted = df[df.is_accepted == 1]\n",
    "is_not_accepted = df[df.is_accepted == 0]\n",
    "plt.scatter(is_accepted.first_exam, is_accepted.second_exam, c='blue')\n",
    "plt.scatter(is_not_accepted.first_exam, is_not_accepted.second_exam, c='red')\n",
    "plt.xlabel('first exam')\n",
    "plt.ylabel('second exam')\n",
    "plt.plot()\n",
    "\n",
    "x_values = np.array([df.first_exam.min(), df.first_exam.max()])\n",
    "normalized_x_values = main.normalize_known(x_values, means, widths, 1)\n",
    "normalized_y_values = -1 / theta[2] * (theta[0] + theta[1] * normalized_x_values)\n",
    "y_values = main.denormalize_known(normalized_y_values, means, widths, 2)\n",
    "\n",
    "plt.plot(x_values, y_values, c='green')\n",
    "\n",
    "plt.show()"
   ]
  }
 ],
 "metadata": {
  "kernelspec": {
   "display_name": "Python 3",
   "language": "python",
   "name": "python3"
  },
  "language_info": {
   "codemirror_mode": {
    "name": "ipython",
    "version": 3
   },
   "file_extension": ".py",
   "mimetype": "text/x-python",
   "name": "python",
   "nbconvert_exporter": "python",
   "pygments_lexer": "ipython3",
   "version": "3.6.8"
  }
 },
 "nbformat": 4,
 "nbformat_minor": 2
}

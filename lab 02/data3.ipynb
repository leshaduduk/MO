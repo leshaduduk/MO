{
 "cells": [
  {
   "cell_type": "code",
   "execution_count": 30,
   "metadata": {},
   "outputs": [
    {
     "name": "stdout",
     "output_type": "stream",
     "text": [
      "The autoreload extension is already loaded. To reload it, use:\n",
      "  %reload_ext autoreload\n"
     ]
    }
   ],
   "source": [
    "import pandas as pd\n",
    "import numpy as np\n",
    "import scipy\n",
    "from sklearn.preprocessing import StandardScaler\n",
    "\n",
    "%load_ext autoreload\n",
    "%autoreload 2\n",
    "import main"
   ]
  },
  {
   "cell_type": "code",
   "execution_count": 97,
   "metadata": {},
   "outputs": [],
   "source": [
    "mat = scipy.io.loadmat('ex2data3.mat')\n",
    "\n",
    "# TODO: rotate\n",
    "raw_x = pd.DataFrame(mat['X'])\n",
    "\n",
    "scaler = StandardScaler()\n",
    "x = scaler.fit_transform(raw_x)\n",
    "\n",
    "x = pd.DataFrame(x)\n",
    "x.insert(0, 'free', 1)\n",
    "\n",
    "y = pd.DataFrame(mat['y']) \\\n",
    "    .applymap(lambda x: 0 if x == 10 else x) \\\n",
    "    .iloc[:, 0]"
   ]
  },
  {
   "cell_type": "code",
   "execution_count": 32,
   "metadata": {},
   "outputs": [
    {
     "data": {
      "image/png": "[encoded data removed]",
      "text/plain": [
       "<Figure size 432x288 with 10 Axes>"
      ]
     },
     "metadata": {
      "needs_background": "light"
     },
     "output_type": "display_data"
    }
   ],
   "source": [
    "%matplotlib inline\n",
    "import matplotlib.pyplot as plt\n",
    "\n",
    "fig = plt.figure()\n",
    "for i in range(10):\n",
    "    ax = fig.add_subplot(4, 3, i + 1)\n",
    "    index = y[y == i].sample(1).index[0]\n",
    "    number = raw_x.iloc[index].values.reshape(20, 20)\n",
    "    ax.imshow(number, cmap='gray')\n",
    "\n",
    "plt.show()"
   ]
  },
  {
   "cell_type": "code",
   "execution_count": null,
   "metadata": {},
   "outputs": [],
   "source": [
    "alpha = 0.003\n",
    "tolerance = 0.0006\n",
    "reg_param = 0.01\n",
    "theta_0 = pd.Series(0, index=range(len(x.columns)))\n",
    "\n",
    "thetas = []\n",
    "for i in range(10):\n",
    "    new_y = y.apply(lambda v: 1 if v == i else 0)\n",
    "    _, theta = main.run_descent(alpha, tolerance, theta_0, x, new_y, reg_param)\n",
    "    thetas.append(theta)"
   ]
  },
  {
   "cell_type": "code",
   "execution_count": 125,
   "metadata": {},
   "outputs": [
    {
     "name": "stdout",
     "output_type": "stream",
     "text": [
      "Prediction:  4\n"
     ]
    },
    {
     "data": {
      "image/png": "[encoded data removed]",
      "text/plain": [
       "<Figure size 432x288 with 1 Axes>"
      ]
     },
     "metadata": {
      "needs_background": "light"
     },
     "output_type": "display_data"
    }
   ],
   "source": [
    "import random\n",
    "\n",
    "%matplotlib inline\n",
    "import matplotlib.pyplot as plt\n",
    "\n",
    "\n",
    "def hypothesis(sample):\n",
    "    scaled = scaler.transform(sample)\n",
    "    padded = np.insert(scaled, 0, 1)\n",
    "    predictions = [main.logistic_hypothesis(padded, theta) for theta in thetas]\n",
    "    index, _ = max(enumerate(predictions), key=lambda p: p[1])\n",
    "    return index\n",
    "\n",
    "datum = raw_x.iloc[[random.randint(0, 4999)]]\n",
    "print('Prediction: ', hypothesis(datum))\n",
    "\n",
    "plt.imshow(datum.values.reshape(20, 20), cmap='gray')\n",
    "plt.show()"
   ]
  },
  {
   "cell_type": "code",
   "execution_count": 127,
   "metadata": {},
   "outputs": [
    {
     "name": "stdout",
     "output_type": "stream",
     "text": [
      "Total accuracy:  0.853\n"
     ]
    }
   ],
   "source": [
    "correct = 0\n",
    "for index, row in raw_x.iterrows():\n",
    "    prediction = hypothesis([row])\n",
    "    actual = y[index]\n",
    "    if prediction == actual:\n",
    "        correct += 1\n",
    "\n",
    "print('Total accuracy: ', correct / len(raw_x))"
   ]
  }
 ],
 "metadata": {
  "kernelspec": {
   "display_name": "Python 3",
   "language": "python",
   "name": "python3"
  },
  "language_info": {
   "codemirror_mode": {
    "name": "ipython",
    "version": 3
   },
   "file_extension": ".py",
   "mimetype": "text/x-python",
   "name": "python",
   "nbconvert_exporter": "python",
   "pygments_lexer": "ipython3",
   "version": "3.6.8"
  }
 },
 "nbformat": 4,
 "nbformat_minor": 2
}

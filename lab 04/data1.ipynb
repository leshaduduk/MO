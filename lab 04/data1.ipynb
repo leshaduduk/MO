{
 "cells": [
  {
   "cell_type": "code",
   "execution_count": null,
   "metadata": {},
   "outputs": [],
   "source": [
    "import itertools\n",
    "\n",
    "import pandas as pd\n",
    "import numpy as np\n",
    "import scipy.io as scio\n",
    "\n",
    "%load_ext autoreload\n",
    "%autoreload 2\n",
    "import main"
   ]
  },
  {
   "cell_type": "code",
   "execution_count": 477,
   "metadata": {},
   "outputs": [],
   "source": [
    "mat_data = scio.loadmat('ex4data1.mat')\n",
    "X = pd.DataFrame(mat['X'])\n",
    "y = pd.DataFrame(mat['y']) \\\n",
    "    .applymap(lambda x: x % 10) \\\n",
    "    .iloc[:, 0]\n",
    "y_vec = y.apply(lambda l: pd.Series(main.to_activation(l, 10)))\n",
    "\n",
    "mat_weights = scio.loadmat('ex4weights.mat')\n",
    "Theta1 = np.array(mat_weights['Theta1'])\n",
    "Theta2 = np.array(mat_weights['Theta2'])\n",
    "# wtf with the order of rows here\n",
    "Theta2 = np.roll(Theta2, 1, axis=0)\n",
    "thetas = [Theta1, Theta2]"
   ]
  },
  {
   "cell_type": "code",
   "execution_count": 545,
   "metadata": {},
   "outputs": [
    {
     "name": "stdout",
     "output_type": "stream",
     "text": [
      "Accuracy:  0.9752\n",
      "Cost: 0.2876293738642598\n"
     ]
    }
   ],
   "source": [
    "predictions = pd.DataFrame(main.run_network(thetas, X))\n",
    "classes = predictions.apply(main.to_cls, axis='columns')\n",
    "\n",
    "correct = classes[classes == y].count()\n",
    "print('Accuracy: ', correct / len(X))\n",
    "\n",
    "cost = main.network_cost(thetas, predictions, y_vec, 0)\n",
    "print('Cost:', cost)"
   ]
  },
  {
   "cell_type": "code",
   "execution_count": 598,
   "metadata": {
    "scrolled": true
   },
   "outputs": [
    {
     "name": "stdout",
     "output_type": "stream",
     "text": [
      "Epoch 1 completed\n",
      "Epoch 2 completed\n",
      "Epoch 3 completed\n",
      "Epoch 4 completed\n",
      "Epoch 5 completed\n",
      "Epoch 6 completed\n",
      "Epoch 7 completed\n",
      "Epoch 8 completed\n",
      "Epoch 9 completed\n",
      "Epoch 10 completed\n",
      "Epoch 11 completed\n",
      "Epoch 12 completed\n",
      "Epoch 13 completed\n",
      "Epoch 14 completed\n",
      "Epoch 15 completed\n"
     ]
    }
   ],
   "source": [
    "alpha = 1.5\n",
    "epochs = 15\n",
    "batch_size = 25\n",
    "thetas_0 = main.init_weights([400, 25, 10], 10)\n",
    "reg_param = 0.003\n",
    "progress = []\n",
    "new_thetas = None\n",
    "\n",
    "# for new_thetas, cost in itertools.islice(main.gradient_descent(thetas_0, X, y_vec, alpha, reg_param), 200):\n",
    "for cost, new_thetas in main.run_stochastic_descent(alpha, epochs, thetas_0, X, y_vec, reg_param, batch_size):\n",
    "    progress.append(cost)"
   ]
  },
  {
   "cell_type": "code",
   "execution_count": 599,
   "metadata": {},
   "outputs": [
    {
     "name": "stdout",
     "output_type": "stream",
     "text": [
      "Accuracy:  0.8562\n",
      "Cost: 0.8808217485328764\n"
     ]
    }
   ],
   "source": [
    "new_predictions = pd.DataFrame(main.run_network(new_thetas, X))\n",
    "new_classes = new_predictions.apply(main.to_cls, axis='columns')\n",
    "\n",
    "correct = new_classes[new_classes == y].count()\n",
    "print('Accuracy: ', correct / len(X))\n",
    "\n",
    "cost = main.network_cost(new_thetas, new_predictions, y_vec, 0)\n",
    "print('Cost:', cost)"
   ]
  },
  {
   "cell_type": "code",
   "execution_count": 600,
   "metadata": {},
   "outputs": [
    {
     "data": {
      "image/png": "[encoded data removed]",
      "text/plain": [
       "<Figure size 432x288 with 1 Axes>"
      ]
     },
     "metadata": {
      "needs_background": "light"
     },
     "output_type": "display_data"
    }
   ],
   "source": [
    "import matplotlib.pyplot as plt\n",
    "\n",
    "plt.plot(progress[400:])\n",
    "plt.show()"
   ]
  },
  {
   "cell_type": "code",
   "execution_count": 607,
   "metadata": {},
   "outputs": [
    {
     "name": "stdout",
     "output_type": "stream",
     "text": [
      "Average error, absolute: 2.4861261227486836e-10\n",
      "Standard deviation:      2.2166461717413582e-10\n",
      "Average value, absolute: 0.0035343859436232296\n"
     ]
    }
   ],
   "source": [
    "epsilon = 10e-4\n",
    "\n",
    "deltas = list(main.backpropagate(new_thetas, X, y_vec, reg_param))\n",
    "deltas_approx = main.gradient_approx(new_thetas, X, y_vec, reg_param, epsilon, [1], [0], range(new_thetas[1].shape[1]))\n",
    "abs_diff = np.abs(deltas[1][0] - deltas_approx[1][0])\n",
    "print('Average error, absolute:', np.mean(abs_diff))\n",
    "print('Standard deviation:     ', np.std(abs_diff))\n",
    "print('Average value, absolute:', np.mean(np.abs(deltas[1])))"
   ]
  },
  {
   "cell_type": "code",
   "execution_count": 618,
   "metadata": {},
   "outputs": [
    {
     "data": {
      "image/png": "[encoded data removed]",
      "text/plain": [
       "<Figure size 432x288 with 10 Axes>"
      ]
     },
     "metadata": {
      "needs_background": "light"
     },
     "output_type": "display_data"
    }
   ],
   "source": [
    "%matplotlib inline\n",
    "import matplotlib.pyplot as plt\n",
    "\n",
    "count = 5\n",
    "# figsize=(11, 25)\n",
    "fig = plt.figure()\n",
    "for i in range(count):\n",
    "    ax = fig.add_subplot(count, 2, 2*i + 1)\n",
    "    index = y_vec.sample(1).index[0]\n",
    "    number = X.iloc[index].values.reshape(20, 20)\n",
    "    ax.imshow(number, cmap='gray')\n",
    "    \n",
    "    ax = fig.add_subplot(count, 2, 2*i + 2)\n",
    "    activations = main.run_network(new_thetas, X.iloc[[index]], 1)\n",
    "    number = np.reshape(activations.values, (5, 5))\n",
    "    ax.imshow(number, cmap='gray')\n",
    "\n",
    "plt.show()"
   ]
  }
 ],
 "metadata": {
  "kernelspec": {
   "display_name": "Python 3",
   "language": "python",
   "name": "python3"
  },
  "language_info": {
   "codemirror_mode": {
    "name": "ipython",
    "version": 3
   },
   "file_extension": ".py",
   "mimetype": "text/x-python",
   "name": "python",
   "nbconvert_exporter": "python",
   "pygments_lexer": "ipython3",
   "version": "3.6.8"
  }
 },
 "nbformat": 4,
 "nbformat_minor": 2
}

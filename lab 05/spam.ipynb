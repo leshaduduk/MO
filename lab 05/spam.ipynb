{
 "cells": [
  {
   "cell_type": "code",
   "execution_count": 1,
   "metadata": {},
   "outputs": [],
   "source": [
    "from itertools import product\n",
    "\n",
    "import pandas as pd\n",
    "import numpy as np\n",
    "import scipy.io as scio\n",
    "from sklearn.svm import SVC\n",
    "\n",
    "%load_ext autoreload\n",
    "%autoreload 2\n",
    "import main"
   ]
  },
  {
   "cell_type": "code",
   "execution_count": 6,
   "metadata": {},
   "outputs": [],
   "source": [
    "mat = scio.loadmat('spamTrain.mat')\n",
    "\n",
    "# TODO?: normalize\n",
    "x = pd.DataFrame(mat['X'])\n",
    "y = pd.DataFrame(mat['y']).iloc[:, 0]\n",
    "\n",
    "mat = scio.loadmat('spamTest.mat')\n",
    "xtest = pd.DataFrame(mat['Xtest'])\n",
    "ytest = pd.DataFrame(mat['ytest']).iloc[:, 0]"
   ]
  },
  {
   "cell_type": "code",
   "execution_count": 136,
   "metadata": {},
   "outputs": [],
   "source": [
    "C = np.logspace(-1, 1.5, 3)\n",
    "gammas = np.logspace(-3, 1, 3)\n",
    "\n",
    "params = pd.DataFrame(product(C, gammas), columns=['C', 'gamma'])"
   ]
  },
  {
   "cell_type": "code",
   "execution_count": 137,
   "metadata": {},
   "outputs": [
    {
     "name": "stdout",
     "output_type": "stream",
     "text": [
      "Best: c=31.622776601683793, gamma=0.001\n"
     ]
    }
   ],
   "source": [
    "params['score'] = 0\n",
    "\n",
    "for i in range(len(params)):\n",
    "    clf = SVC(kernel='rbf', C=params.iloc[i].C, gamma=params.iloc[i].gamma)\n",
    "    clf.fit(x, y)\n",
    "    # NOTE: we shouldn't use test sample for validation!\n",
    "    score = clf.score(xtest, ytest)\n",
    "    params.iloc[i, 2] = score\n",
    "\n",
    "index = pd.Series(params.score.idxmax()).iloc[0]\n",
    "c = params.C[index]\n",
    "gamma = params.gamma[index]\n",
    "print('Best: c={}, gamma={}'.format(c, gamma))"
   ]
  },
  {
   "cell_type": "code",
   "execution_count": 146,
   "metadata": {},
   "outputs": [],
   "source": [
    "def get_features(text, vocab):\n",
    "    result = np.zeros(len(words))\n",
    "    for word in main.get_words(text):\n",
    "        if word in vocab:\n",
    "            result[vocab[word]] = 1\n",
    "    return result\n",
    "\n",
    "filenames = ['emailSample1.txt', 'emailSample2.txt', 'spamSample1.txt', 'spamSample2.txt']\n",
    "texts = []\n",
    "\n",
    "for filename in filenames:\n",
    "    with open(filename, 'r') as f:\n",
    "        texts.append(f.read())"
   ]
  },
  {
   "cell_type": "code",
   "execution_count": 147,
   "metadata": {},
   "outputs": [
    {
     "name": "stdout",
     "output_type": "stream",
     "text": [
      "emailSample1.txt is not spam\n",
      "emailSample2.txt is not spam\n",
      "spamSample1.txt is not spam\n",
      "spamSample2.txt is spam\n"
     ]
    }
   ],
   "source": [
    "words = pd.read_csv('vocab.txt', sep='\\t', header=None, names=['code', 'word'])\n",
    "vocab = {word: code for code, word in words.itertuples(index=False)}\n",
    "x_emails = pd.DataFrame([get_features(t, vocab) for t in texts])\n",
    "\n",
    "clf = SVC(kernel='rbf', C=c, gamma=gamma)\n",
    "clf.fit(x, y)\n",
    "prediction = clf.predict(x_emails)\n",
    "\n",
    "for i in range(len(x_emails)):\n",
    "    if prediction[i] == 1:\n",
    "        print('{} is spam'.format(filenames[i]))\n",
    "    else:\n",
    "        print('{} is not spam'.format(filenames[i]))"
   ]
  },
  {
   "cell_type": "code",
   "execution_count": 172,
   "metadata": {},
   "outputs": [
    {
     "name": "stdout",
     "output_type": "stream",
     "text": [
      "52.0\n",
      "emailSample1.txt is not spam\n",
      "emailSample2.txt is not spam\n",
      "spamSample1.txt is not spam\n",
      "spamSample2.txt is not spam\n"
     ]
    }
   ],
   "source": [
    "df = pd.read_csv('train.csv')\n",
    "x_custom = df.iloc[:, :-2]\n",
    "y_custom = df.iloc[:, -1]\n",
    "\n",
    "words = pd.read_csv('custom.txt', header=None)\n",
    "vocab = {word: index for index, word in words.itertuples()}\n",
    "x_emails = pd.DataFrame([get_features(t, vocab) for t in texts])\n",
    "print(x_emails.iloc[2].sum())\n",
    "\n",
    "clf = SVC(kernel='rbf', C=1, gamma='auto')\n",
    "clf.fit(x_custom, y_custom)\n",
    "prediction = clf.predict(x_emails)\n",
    "\n",
    "for i in range(len(x_emails)):\n",
    "    if prediction[i] == 1:\n",
    "        print('{} is spam'.format(filenames[i]))\n",
    "    else:\n",
    "        print('{} is not spam'.format(filenames[i]))"
   ]
  }
 ],
 "metadata": {
  "kernelspec": {
   "display_name": "Python 3",
   "language": "python",
   "name": "python3"
  },
  "language_info": {
   "codemirror_mode": {
    "name": "ipython",
    "version": 3
   },
   "file_extension": ".py",
   "mimetype": "text/x-python",
   "name": "python",
   "nbconvert_exporter": "python",
   "pygments_lexer": "ipython3",
   "version": "3.6.8"
  }
 },
 "nbformat": 4,
 "nbformat_minor": 2
}

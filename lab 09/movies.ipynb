{
 "cells": [
  {
   "cell_type": "code",
   "execution_count": null,
   "metadata": {},
   "outputs": [],
   "source": [
    "import numpy as np\n",
    "import pandas as pd\n",
    "import matplotlib.pyplot as plt\n",
    "import scipy.io as scio\n",
    "from sklearn.linear_model import Ridge\n",
    "\n",
    "%load_ext autoreload\n",
    "%autoreload 2\n",
    "import main"
   ]
  },
  {
   "cell_type": "code",
   "execution_count": 188,
   "metadata": {},
   "outputs": [],
   "source": [
    "mat = scio.loadmat('ex9_movies.mat')\n",
    "\n",
    "# TODO: mean normalization: rows, columns and total\n",
    "# TODO: only calculate the mean for present values\n",
    "r = pd.DataFrame(mat['R'])\n",
    "# y = pd.DataFrame(mat['Y'])[r == 1]\n",
    "y = pd.DataFrame(mat['Y'])"
   ]
  },
  {
   "cell_type": "code",
   "execution_count": null,
   "metadata": {},
   "outputs": [],
   "source": [
    "# TODO: automatically select n\n",
    "n = 10\n",
    "x = np.random.random((y.shape[0], n))\n",
    "theta = np.random.random((y.shape[1], n))\n",
    "\n",
    "alpha = 0.00008\n",
    "tolerance = 2\n",
    "reg_param = 1\n",
    "\n",
    "# TODO: try running PCA first\n",
    "progress = []\n",
    "for x, theta, cost in main.run_descent(alpha, tolerance, theta, x, y, r, reg_param):\n",
    "    print(cost)\n",
    "    progress.append(cost)\n",
    "    \n",
    "plt.plot(progress)"
   ]
  },
  {
   "cell_type": "code",
   "execution_count": 189,
   "metadata": {},
   "outputs": [
    {
     "data": {
      "image/png": "[encoded data removed]",
      "text/plain": [
       "<Figure size 432x288 with 1 Axes>"
      ]
     },
     "metadata": {
      "needs_background": "light"
     },
     "output_type": "display_data"
    }
   ],
   "source": [
    "plt.plot(progress)\n",
    "plt.show()"
   ]
  },
  {
   "cell_type": "code",
   "execution_count": 186,
   "metadata": {},
   "outputs": [],
   "source": [
    "my_rating = np.zeros(y.shape[0])\n",
    "\n",
    "my_rating[50] = 5 # star wars\n",
    "my_rating[56] = 5 # pulp fiction\n",
    "my_rating[64] = 5 # shawshank redemption\n",
    "my_rating[65] = 3 # what's eating gilbert grape\n",
    "my_rating[69] = 5 # forrest gump\n",
    "my_rating[71] = 4 # lion king\n",
    "my_rating[79] = 4 # the fugitive\n",
    "my_rating[86] = 5 # remains of the day\n",
    "my_rating[89] = 4 # blade runner\n",
    "my_rating[94] = 3 # home alone\n",
    "my_rating[96] = 5 # terminator 2\n",
    "my_rating[98] = 5 # silence of the lambs\n",
    "my_rating[127] = 5 # godfather\n",
    "my_rating[135] = 4 # 2001 space odyssey\n",
    "my_rating[151] = 4 # willie wonka\n",
    "my_rating[172] = 5 # empire strikes back\n",
    "my_rating[174] = 4 # raiders of the lost ark\n",
    "my_rating[178] = 5 # 12 angry men\n",
    "my_rating[181] = 5 # return of the jedi\n",
    "my_rating[185] = 4 # psycho\n",
    "my_rating[195] = 5 # terminator\n",
    "my_rating[196] = 4 # dead poets society\n",
    "my_rating[200] = 3 # shining\n",
    "my_rating[202] = 5 # groundhog day\n",
    "my_rating[483] = 4 # Casablanca (1942)\n",
    "my_rating[755] = 3 # Jumanji (1995)\n",
    "my_rating[902] = 5 # Big Lebowski, The (1998)\n",
    "my_rating[1127] = 5 # Truman Show, The (1998)\n",
    "my_rating[204] = 5 # Back to the Future (1985)\n",
    "my_rating[209] = 3 # This Is Spinal Tap (1984)\n",
    "my_rating[214] = 2 # Pink Floyd - The Wall (1982)\n",
    "my_rating[216] = 4 # When Harry Met Sally... (1989)\n",
    "my_rating[250] = 4 # Fifth Element, The (1997)\n",
    "my_rating[257] = 4 # Men in Black (1997)\n",
    "my_rating[302] = 5 # L.A. Confidential (1997)\n",
    "my_rating[318] = 5 # Schindler's List (1993)\n",
    "my_rating[340] = 4 # Boogie Nights (1997)\n",
    "\n",
    "# indexes in the file start with one, compensate\n",
    "my_rating = np.roll(my_rating, -1, axis=0)\n",
    "my_rating = pd.Series(my_rating)\n",
    "my_actual_rating = my_rating[my_rating > 0]\n",
    "my_movies = x.iloc[my_actual_rating]\n",
    "\n",
    "all_movies = pd.read_csv('movie_ids.txt', header=None, quotechar='\"').iloc[:, 1]"
   ]
  },
  {
   "cell_type": "code",
   "execution_count": 187,
   "metadata": {},
   "outputs": [
    {
     "name": "stdout",
     "output_type": "stream",
     "text": [
      "Highlander (1986): 5.728839083441782\n",
      "M*A*S*H (1970): 5.364936477106315\n",
      "Apt Pupil (1998): 5.326645001803318\n",
      "Shall We Dance? (1996): 5.313734419839206\n",
      "Body Snatcher, The (1945): 5.300216618589752\n",
      "Butcher Boy, The (1998): 5.245175791808727\n",
      "Speed (1994): 5.187545725743342\n",
      "Dolores Claiborne (1994): 5.175382188084284\n",
      "Event Horizon (1997): 5.154579429543501\n",
      "C'est arrivé près de chez vous (1992): 5.153113191062481\n",
      "Safe (1995): 5.150264506660337\n",
      "Cook the Thief His Wife & Her Lover, The (1989): 5.143826750702315\n",
      "Courage Under Fire (1996): 5.125414147871106\n",
      "Mother (1996): 5.112838982120777\n",
      "Big Blue, The (Grand bleu, Le) (1988): 5.103076212709746\n",
      "Mary Shelley's Frankenstein (1994): 5.098805014149778\n",
      "Great Day in Harlem, A (1994): 5.086731005607059\n",
      "Schindler's List (1993): 5.084809145604135\n",
      "Old Lady Who Walked in the Sea, The (Vieille qui marchait dans la mer, La) (1991): 5.079417315194116\n",
      "Nightmare on Elm Street, A (1984): 5.053831570332282\n"
     ]
    }
   ],
   "source": [
    "# we created linear regression in the 1st lab, no need to repeat the code here\n",
    "reg = Ridge(alpha=0.1).fit(my_movies, my_actual_rating)\n",
    "prediction = pd.Series(reg.predict(x))\n",
    "prediction = prediction.sort_values(ascending=False)\n",
    "for i, score in prediction.iloc[:20].iteritems():\n",
    "    print('{}: {}'.format(all_movies.iat[i], score))"
   ]
  }
 ],
 "metadata": {
  "kernelspec": {
   "display_name": "Python 3",
   "language": "python",
   "name": "python3"
  },
  "language_info": {
   "codemirror_mode": {
    "name": "ipython",
    "version": 3
   },
   "file_extension": ".py",
   "mimetype": "text/x-python",
   "name": "python",
   "nbconvert_exporter": "python",
   "pygments_lexer": "ipython3",
   "version": "3.6.8"
  }
 },
 "nbformat": 4,
 "nbformat_minor": 2
}

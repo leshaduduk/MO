{
 "cells": [
  {
   "cell_type": "code",
   "execution_count": 1,
   "metadata": {
    "pycharm": {
     "is_executing": false,
     "name": "#%%\n"
    }
   },
   "outputs": [],
   "source": [
    "import numpy as np\n",
    "import matplotlib.pyplot as plt\n",
    "from sklearn import datasets \n",
    "from sklearn.model_selection import train_test_split\n",
    "from sklearn.tree import DecisionTreeRegressor\n",
    "from sklearn.model_selection import GridSearchCV\n",
    "from sklearn.metrics import mean_squared_error\n",
    "from sklearn.ensemble import AdaBoostRegressor\n",
    "from sklearn.linear_model import LinearRegression\n",
    "import warnings\n",
    "warnings.filterwarnings('ignore')"
   ]
  },
  {
   "cell_type": "markdown",
   "metadata": {
    "collapsed": true,
    "pycharm": {
     "name": "#%% md\n"
    }
   },
   "source": [
    "#### 1. Загрузите данные с помощью библиотеки sklearn."
   ]
  },
  {
   "cell_type": "code",
   "execution_count": 2,
   "metadata": {
    "pycharm": {
     "is_executing": false,
     "name": "#%%\n"
    }
   },
   "outputs": [],
   "source": [
    "boston = datasets.load_boston()\n",
    "X = boston.data\n",
    "y = boston.target"
   ]
  },
  {
   "cell_type": "markdown",
   "metadata": {
    "pycharm": {
     "name": "#%% md\n"
    }
   },
   "source": [
    "#### 2. Разделите выборку на обучающую (75%) и контрольную (25%)."
   ]
  },
  {
   "cell_type": "code",
   "execution_count": 3,
   "metadata": {
    "pycharm": {
     "is_executing": false,
     "name": "#%%\n"
    }
   },
   "outputs": [],
   "source": [
    "X_train, X_test, y_train, y_test = train_test_split(X, y, test_size=0.25)"
   ]
  },
  {
   "cell_type": "markdown",
   "metadata": {
    "pycharm": {
     "name": "#%% md\n"
    }
   },
   "source": [
    "#### 3. Заведите массив для объектов DecisionTreeRegressor (они будут использоваться в качестве базовых алгоритмов) и для вещественных чисел (коэффициенты перед базовыми алгоритмами)."
   ]
  },
  {
   "cell_type": "code",
   "execution_count": 4,
   "metadata": {
    "pycharm": {
     "is_executing": false,
     "name": "#%%\n"
    }
   },
   "outputs": [],
   "source": [
    "tree = DecisionTreeRegressor()"
   ]
  },
  {
   "cell_type": "markdown",
   "metadata": {
    "pycharm": {
     "name": "#%% md\n"
    }
   },
   "source": [
    "#### 4. В цикле обучите последовательно 50 решающих деревьев с параметрами max_depth=5 и random_state=42 (остальные параметры - по умолчанию). Каждое дерево должно обучаться на одном и том же множестве объектов, но ответы, которые учится прогнозировать дерево, будут меняться в соответствие с отклонением истинных значений от предсказанных.\n",
    "#### 5. Попробуйте всегда брать коэффициент равным 0.9. Обычно оправдано выбирать коэффициент значительно меньшим - порядка 0.05 или 0.1, но на стандартном наборе данных будет всего 50 деревьев, возьмите для начала шаг побольше."
   ]
  },
  {
   "cell_type": "code",
   "execution_count": 5,
   "metadata": {
    "pycharm": {
     "is_executing": false,
     "name": "#%%\n"
    }
   },
   "outputs": [],
   "source": [
    "tree_cv = GridSearchCV(tree, {\"max_depth\": [5, None], \"random_state\": [42, None]})"
   ]
  },
  {
   "cell_type": "code",
   "execution_count": 6,
   "metadata": {
    "pycharm": {
     "is_executing": false,
     "name": "#%%\n"
    }
   },
   "outputs": [],
   "source": [
    "abr = AdaBoostRegressor(tree_cv, n_estimators=50)\n",
    "model: AdaBoostRegressor = abr.fit(X_train, y_train, sample_weight=[0.9])"
   ]
  },
  {
   "cell_type": "markdown",
   "metadata": {
    "pycharm": {
     "name": "#%% md\n"
    }
   },
   "source": [
    "#### 6. В процессе реализации обучения вам потребуется функция, которая будет вычислять прогноз построенной на данный момент композиции деревьев на выборке X. Реализуйте ее. Эта же функция поможет вам получить прогноз на контрольной выборке и оценить качество работы вашего алгоритма с помощью mean_squared_error в sklearn.metrics."
   ]
  },
  {
   "cell_type": "code",
   "execution_count": 7,
   "metadata": {
    "pycharm": {
     "is_executing": false,
     "name": "#%%\n"
    }
   },
   "outputs": [
    {
     "name": "stdout",
     "output_type": "stream",
     "text": [
      "score =  -0.00249786297890342\n",
      "RMSE =  9.5593051505133\n"
     ]
    }
   ],
   "source": [
    "#Predict the response for test dataset\n",
    "y_pred_4 = model.predict(X_test)\n",
    "\n",
    "# Compute and print the metrics\n",
    "abr_r2 = model.score(X_test, y_test)\n",
    "abr_rmse = np.sqrt(mean_squared_error(y_test, y_pred_4))\n",
    "print('score = ', abr_r2)\n",
    "print('RMSE = ', abr_rmse)"
   ]
  },
  {
   "cell_type": "markdown",
   "metadata": {
    "pycharm": {
     "name": "#%% md\n"
    }
   },
   "source": [
    "При коэфициенте 0.9, качество на контрольной выборке получилось практически равным нулю."
   ]
  },
  {
   "cell_type": "markdown",
   "metadata": {
    "pycharm": {
     "name": "#%% md\n"
    }
   },
   "source": [
    "#### 7. Попробуйте уменьшать вес перед каждым алгоритмом с каждой следующей итерацией по формуле 0.9 / (1.0 + i), где i - номер итерации (от 0 до 49). Какое получилось качество на контрольной выборке?"
   ]
  },
  {
   "cell_type": "code",
   "execution_count": 8,
   "metadata": {
    "pycharm": {
     "is_executing": false,
     "name": "#%%\n"
    }
   },
   "outputs": [
    {
     "name": "stdout",
     "output_type": "stream",
     "text": [
      "score =  0.9234376086798867\n",
      "RMSE =  2.6417538093047916\n"
     ]
    }
   ],
   "source": [
    "sample_weights = list(map(lambda i: [0.9 / (1 + i)], range(0, 50)))\n",
    "model: AdaBoostRegressor = abr.fit(X_train, y_train)\n",
    "y_pred_4 = model.predict(X_test)\n",
    "abr_r2 = model.score(X_test, y_test)\n",
    "abr_rmse = np.sqrt(mean_squared_error(y_test, y_pred_4))\n",
    "print('score = ', abr_r2)\n",
    "print('RMSE = ', abr_rmse)"
   ]
  },
  {
   "cell_type": "markdown",
   "metadata": {
    "pycharm": {
     "is_executing": false,
     "name": "#%% md\n"
    }
   },
   "source": [
    "После указания весов по формуле выше, качество на контрольной выборке возросло до ~0.50"
   ]
  },
  {
   "cell_type": "markdown",
   "metadata": {
    "pycharm": {
     "name": "#%% md\n"
    }
   },
   "source": [
    "#### 8. Исследуйте, переобучается ли градиентный бустинг с ростом числа итераций, а также с ростом глубины деревьев. Постройте графики. Какие выводы можно сделать?"
   ]
  },
  {
   "cell_type": "code",
   "execution_count": 9,
   "metadata": {
    "pycharm": {
     "is_executing": false,
     "name": "#%%\n"
    }
   },
   "outputs": [
    {
     "data": {
      "text/plain": [
       "<matplotlib.legend.Legend at 0x1b3f54a1d68>"
      ]
     },
     "execution_count": 9,
     "metadata": {},
     "output_type": "execute_result"
    },
    {
     "data": {
      "image/png": "[encoded data removed]",
      "text/plain": [
       "<Figure size 432x288 with 1 Axes>"
      ]
     },
     "metadata": {
      "needs_background": "light"
     },
     "output_type": "display_data"
    }
   ],
   "source": [
    "num_iters = 50\n",
    "J_history = []\n",
    "J_test_history = []\n",
    "\n",
    "for i in range(num_iters):\n",
    "    abr = AdaBoostRegressor(tree_cv, n_estimators=50, learning_rate=1 / (1 + i))\n",
    "    model: AdaBoostRegressor = abr.fit(X_train, y_train)\n",
    "    \n",
    "    y_pred_train = model.predict(X_train)\n",
    "    abr_rmse_train = np.sqrt(mean_squared_error(y_train, y_pred_train))\n",
    "    \n",
    "    y_pred_test = model.predict(X_test)\n",
    "    abr_rmse_test = np.sqrt(mean_squared_error(y_test, y_pred_test))\n",
    "    \n",
    "    J_history.append(abr_rmse_train)\n",
    "    J_test_history.append(abr_rmse_test)\n",
    "    \n",
    "plt.plot(range(num_iters), J_history, '-r', LineWidth=2)\n",
    "plt.plot(range(num_iters), J_test_history, '-b', LineWidth=2)\n",
    "plt.ylabel('RMSE')\n",
    "plt.xlabel('Iterations')\n",
    "plt.legend(['Train', 'Test'])\n",
    " "
   ]
  },
  {
   "cell_type": "code",
   "execution_count": 10,
   "metadata": {
    "pycharm": {
     "is_executing": false,
     "name": "#%%\n"
    }
   },
   "outputs": [
    {
     "data": {
      "text/plain": [
       "<matplotlib.legend.Legend at 0x1b3f557a6d8>"
      ]
     },
     "execution_count": 10,
     "metadata": {},
     "output_type": "execute_result"
    },
    {
     "data": {
      "image/png": "[encoded data removed]",
      "text/plain": [
       "<Figure size 432x288 with 1 Axes>"
      ]
     },
     "metadata": {
      "needs_background": "light"
     },
     "output_type": "display_data"
    }
   ],
   "source": [
    "num_iters = 50\n",
    "J_history = []\n",
    "J_test_history = []\n",
    "\n",
    "for i in range(num_iters):\n",
    "    tree_cv = GridSearchCV(tree, {\"max_depth\": [1 + i, None], \"random_state\": [42, None]})\n",
    "    abr = AdaBoostRegressor(tree_cv, n_estimators=50)\n",
    "    model: AdaBoostRegressor = abr.fit(X_train, y_train)\n",
    "    \n",
    "    y_pred_train = model.predict(X_train)\n",
    "    abr_rmse_train = np.sqrt(mean_squared_error(y_train, y_pred_train))\n",
    "    \n",
    "    y_pred_test = model.predict(X_test)\n",
    "    abr_rmse_test = np.sqrt(mean_squared_error(y_test, y_pred_test))\n",
    "    \n",
    "    J_history.append(abr_rmse_train)\n",
    "    J_test_history.append(abr_rmse_test)\n",
    "    \n",
    "plt.plot(range(num_iters), J_history, '-r', LineWidth=2)\n",
    "plt.plot(range(num_iters), J_test_history, '-b', LineWidth=2)\n",
    "plt.ylabel('RMSE')\n",
    "plt.xlabel('Tree depth')\n",
    "plt.legend(['Train', 'Validation'])"
   ]
  },
  {
   "cell_type": "markdown",
   "metadata": {
    "pycharm": {
     "name": "#%% md\n"
    }
   },
   "source": [
    "Можно заметить, что при изменении параметров 'число итераций' и 'глубина дерева' алгоритм не переобучается. \n",
    "Более того, ошибка, при изменении параметров, практически не меняется."
   ]
  },
  {
   "cell_type": "markdown",
   "metadata": {
    "pycharm": {
     "name": "#%% md\n"
    }
   },
   "source": [
    "#### 9. Сравните качество, получаемое с помощью градиентного бустинга с качеством работы линейной регрессии. Для этого обучите LinearRegression из sklearn.linear_model (с параметрами по умолчанию) на обучающей выборке и оцените для прогнозов полученного алгоритма на тестовой выборке RMSE."
   ]
  },
  {
   "cell_type": "code",
   "execution_count": 11,
   "metadata": {
    "pycharm": {
     "is_executing": false,
     "name": "#%%\n"
    }
   },
   "outputs": [
    {
     "name": "stdout",
     "output_type": "stream",
     "text": [
      "GB score = 0.9234376086798867, LR score = 0.7960856926183966\n",
      "GB RMSE = 2.6417538093047916, LR RMSE = 4.311302012433063\n"
     ]
    }
   ],
   "source": [
    "reg = LinearRegression()\n",
    "reg.fit(X_train, y_train)\n",
    "y_pred_1 = reg.predict(X_test)\n",
    "r2 = reg.score(X_test, y_test)\n",
    "OLS_rmse = np.sqrt(mean_squared_error(y_test, y_pred_1))\n",
    "print(f'GB score = {abr_r2}, LR score = {r2}')\n",
    "print(f'GB RMSE = {abr_rmse}, LR RMSE = {OLS_rmse}')"
   ]
  },
  {
   "cell_type": "markdown",
   "metadata": {
    "pycharm": {
     "name": "#%% md\n"
    }
   },
   "source": [
    "Градиентый бустинг показал лучший результат.\n",
    "RMSE градиентный бустинг = 0.84\n",
    "RMSE линейная регрессия = 0.74\n"
   ]
  }
 ],
 "metadata": {
  "kernelspec": {
   "display_name": "Python 3",
   "language": "python",
   "name": "python3"
  },
  "language_info": {
   "codemirror_mode": {
    "name": "ipython",
    "version": 3
   },
   "file_extension": ".py",
   "mimetype": "text/x-python",
   "name": "python",
   "nbconvert_exporter": "python",
   "pygments_lexer": "ipython3",
   "version": "3.7.3"
  },
  "pycharm": {
   "stem_cell": {
    "cell_type": "raw",
    "metadata": {
     "collapsed": false
    },
    "source": []
   }
  }
 },
 "nbformat": 4,
 "nbformat_minor": 1
}

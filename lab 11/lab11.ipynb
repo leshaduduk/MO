{
 "cells": [
  {
   "cell_type": "code",
   "execution_count": 5,
   "metadata": {
    "pycharm": {
     "is_executing": false
    }
   },
   "outputs": [],
   "source": [
    "import numpy as np\n",
    "import matplotlib.pyplot as plt\n",
    "from sklearn.linear_model import LogisticRegression\n",
    "from sklearn.svm import SVC\n",
    "from sklearn.ensemble import GradientBoostingClassifier\n",
    "import random\n",
    "from scipy.ndimage.filters import gaussian_filter1d\n",
    "from scipy.interpolate import UnivariateSpline\n",
    "import warnings\n",
    "warnings.filterwarnings('ignore')"
   ]
  },
  {
   "cell_type": "markdown",
   "metadata": {
    "pycharm": {
     "name": "#%% md\n"
    }
   },
   "source": [
    "#### 1. Изучите классическую работу У. Рурмаира о криптографических атаках с помощью машинного обучения на ФНФ.\n",
    "#### 2. Сформулируйте задачу в терминах машинного обучения."
   ]
  },
  {
   "cell_type": "markdown",
   "metadata": {
    "pycharm": {
     "name": "#%% md\n"
    }
   },
   "source": [
    "При применении к ФНФ с однобитовыми выходами каждому вызову $C = b^k···b^k$ назначается \n",
    "вероятность $p (C, t | \\vec{w})$ такая, что он генерирует выходной сигнал $t ∈ \\{−1, 1\\}$. \n",
    "Таким образом, вектор $\\vec{w}$ кодирует соответствующие внутренние параметры, \n",
    "например, конкретные задержки времени выполнения отдельной ФНФ. \n",
    "Вероятность определяется логистической сигмоидой, действующей на функцию $f (\\vec{w})$, \n",
    "параметризованную вектором $\\vec{w}$ как $p (C, t | \\vec{w}) = σ(tf) = (1 + e^{-tf})^{−1}$. Таким образом, $f$ через $f = 0$ \n",
    "определяет границу решения с равными выходными вероятностями. Для данного обучающего набора M из CRP \n",
    "необходимо определить границу путем выбора вектора параметров $\\vec{w}$ таким образом, чтобы вероятность наблюдения \n",
    "этого набора была максимальной, соответственно, отрицательная логарифмическая вероятность была минимальной:\n",
    "$w = argmin_\\vec{w}l(M, \\vec{w}) = argmin_\\vec{w}\n",
    "X\n",
    "(C, t)∈M\n",
    "−ln (σ (tf(\\vec{w}, C)))$"
   ]
  },
  {
   "cell_type": "markdown",
   "metadata": {
    "pycharm": {
     "name": "#%% md\n"
    }
   },
   "source": [
    "#### 3. Обучите модель, которая могла бы предсказывать ответы по запросам, которых нет в обучающей выборке."
   ]
  },
  {
   "cell_type": "code",
   "execution_count": 6,
   "metadata": {
    "pycharm": {
     "is_executing": false,
     "name": "#%%\n"
    }
   },
   "outputs": [],
   "source": [
    "def into_features_vect(chall):\n",
    "    \"Transforms a challenge into a feature vector\"\n",
    "    phi = []\n",
    "    for i in range(1,len(chall)):\n",
    "        s = sum(chall[i:])\n",
    "        if s % 2 == 0:\n",
    "            phi.append(1)\n",
    "        else:\n",
    "            phi.append(-1)\n",
    "    phi.append(1)\n",
    "    return phi"
   ]
  },
  {
   "cell_type": "code",
   "execution_count": 7,
   "metadata": {
    "pycharm": {
     "is_executing": false,
     "name": "#%%\n"
    }
   },
   "outputs": [],
   "source": [
    "class Stage:\n",
    "    _delay_out_a = 0.\n",
    "    _delay_out_b = 0.\n",
    "    _selector = 0\n",
    "\n",
    "    def __init__(self,delay_a,delay_b):\n",
    "        self._delay_out_a = delay_a\n",
    "        self._delay_out_b = delay_b\n",
    "\n",
    "    def set_selector(self,s):\n",
    "        self._selector = s\n",
    "\n",
    "    def get_output(self,delay_in_a, delay_in_b):\n",
    "        if self._selector == 0:\n",
    "            return (delay_in_a  + self._delay_out_a, \n",
    "                    delay_in_b  + self._delay_out_b)\n",
    "        else:\n",
    "            return (delay_in_b  + self._delay_out_a, \n",
    "                    delay_in_a  + self._delay_out_b)\n"
   ]
  },
  {
   "cell_type": "code",
   "execution_count": 8,
   "metadata": {
    "pycharm": {
     "is_executing": false,
     "name": "#%%\n"
    }
   },
   "outputs": [],
   "source": [
    "class ArbiterPUF:\n",
    "\n",
    "    def __init__(self,n):\n",
    "        self._stages = []\n",
    "\n",
    "        for _ in range(n):\n",
    "            d1 = random.random()\n",
    "            d2 = random.random()\n",
    "            self._stages.append(Stage(d1,d2))\n",
    "\n",
    "    def get_output(self,chall):\n",
    "        # Set challenge\n",
    "        for stage,bit in zip(self._stages,chall):\n",
    "            stage.set_selector(bit)\n",
    "\n",
    "        # Compute output\n",
    "        delay = (0,0)\n",
    "        for s in self._stages:\n",
    "            delay = s.get_output(delay[0],delay[1])\n",
    "\n",
    "        if delay[0] < delay[1]:\n",
    "            return 0\n",
    "        else:\n",
    "            return 1"
   ]
  },
  {
   "cell_type": "code",
   "execution_count": 9,
   "metadata": {
    "pycharm": {
     "is_executing": false,
     "name": "#%%\n"
    }
   },
   "outputs": [
    {
     "name": "stdout",
     "output_type": "stream",
     "text": [
      "Score arbiter PUF (32 stages): 0.963800\n"
     ]
    }
   ],
   "source": [
    "class Stage:\n",
    "    _delay_out_a = 0.\n",
    "    _delay_out_b = 0.\n",
    "    _selector = 0\n",
    "\n",
    "    def __init__(self,delay_a,delay_b):\n",
    "        self._delay_out_a = delay_a\n",
    "        self._delay_out_b = delay_b\n",
    "\n",
    "    def set_selector(self,s):\n",
    "        self._selector = s\n",
    "\n",
    "    def get_output(self,delay_in_a, delay_in_b):\n",
    "        if self._selector == 0:\n",
    "            return (delay_in_a  + self._delay_out_a, \n",
    "                    delay_in_b  + self._delay_out_b)\n",
    "        else:\n",
    "            return (delay_in_b  + self._delay_out_a, \n",
    "                    delay_in_a  + self._delay_out_b)\n",
    "\n",
    "class ArbiterPUF:\n",
    "\n",
    "    def __init__(self,n):\n",
    "        self._stages = []\n",
    "\n",
    "        for _ in range(n):\n",
    "            d1 = random.random()\n",
    "            d2 = random.random()\n",
    "            self._stages.append(Stage(d1,d2))\n",
    "\n",
    "    def get_output(self,chall):\n",
    "        # Set challenge\n",
    "        for stage,bit in zip(self._stages,chall):\n",
    "            stage.set_selector(bit)\n",
    "\n",
    "        # Compute output\n",
    "        delay = (0,0)\n",
    "        for s in self._stages:\n",
    "            delay = s.get_output(delay[0],delay[1])\n",
    "\n",
    "        if delay[0] < delay[1]:\n",
    "            return 0\n",
    "        else:\n",
    "            return 1\n",
    "\n",
    "N  = 32     # Size of the PUF\n",
    "LS = 600    # Size learning set\n",
    "TS = 10000  # Size testing set\n",
    "apuf = ArbiterPUF(N)\n",
    "\n",
    "# Creating training suite\n",
    "learningX = [[random.choice([0,1]) for _ in range(N)] for _ in range(LS)] # Challenges\n",
    "learningY = [apuf.get_output(chall) for chall in learningX] # Outputs PUF\n",
    "\n",
    "# Creating testing suite\n",
    "testingX = [[random.choice([0,1]) for _ in range(N)] for _ in range(TS)] \n",
    "testingY = [apuf.get_output(chall) for chall in testingX]\n",
    "\n",
    "# Convert challenges into feature vectors\n",
    "learningX = [into_features_vect(c) for c in learningX]\n",
    "testingX = [into_features_vect(c) for c in testingX]\n",
    "\n",
    "# Prediction\n",
    "lr = LogisticRegression()\n",
    "lr.fit(learningX, learningY)\n",
    "print(\"Score arbiter PUF (%d stages): %f\" % (N,lr.score(testingX,testingY)))"
   ]
  },
  {
   "cell_type": "markdown",
   "metadata": {
    "pycharm": {
     "name": "#%% md\n"
    }
   },
   "source": [
    "#### 4. Применить как минимум 3 различных алгоритма (например, метод опорных векторов, логистическая регрессия и градиентный бустинг)."
   ]
  },
  {
   "cell_type": "code",
   "execution_count": 10,
   "metadata": {
    "pycharm": {
     "is_executing": false,
     "name": "#%%\n"
    }
   },
   "outputs": [
    {
     "name": "stdout",
     "output_type": "stream",
     "text": [
      "Score arbiter PUF (32 stages): 0.925700\n"
     ]
    }
   ],
   "source": [
    "svc = SVC()\n",
    "svc.fit(learningX, learningY)\n",
    "print(\"Score arbiter PUF (%d stages): %f\" % (N, svc.score(testingX, testingY)))"
   ]
  },
  {
   "cell_type": "code",
   "execution_count": 11,
   "metadata": {
    "pycharm": {
     "is_executing": false,
     "name": "#%%\n"
    }
   },
   "outputs": [
    {
     "name": "stdout",
     "output_type": "stream",
     "text": [
      "Score arbiter PUF (32 stages): 0.857900\n"
     ]
    }
   ],
   "source": [
    "gb = GradientBoostingClassifier()\n",
    "gb.fit(learningX, learningY)\n",
    "print(\"Score arbiter PUF (%d stages): %f\" % (N, gb.score(testingX, testingY)))"
   ]
  },
  {
   "cell_type": "markdown",
   "metadata": {
    "pycharm": {
     "name": "#%% md\n"
    }
   },
   "source": [
    "#### 5. Какая метрика наиболее подходит для оценки качества алгоритма?"
   ]
  },
  {
   "cell_type": "markdown",
   "metadata": {
    "pycharm": {
     "name": "#%% md\n"
    }
   },
   "source": [
    "Количество правильных ответов обученной модели на тестовом наборе, деленное на количество CRP в тестовом наборе. "
   ]
  },
  {
   "cell_type": "markdown",
   "metadata": {
    "pycharm": {
     "name": "#%% md\n"
    }
   },
   "source": [
    "#### 6. Какой наибольшей доли правильных ответов (Accuracy) удалось достичь?"
   ]
  },
  {
   "cell_type": "markdown",
   "metadata": {
    "pycharm": {
     "name": "#%% md\n"
    }
   },
   "source": [
    "Наибольшей доли правильных ответов удалось достичь используя алгоритм линейной регрессии.\n",
    "Его доля правильных ответов (на 32-битном арбитре) составила 0.876\n",
    "Для сравнения: SVM = 0.797, GB = 0.749"
   ]
  },
  {
   "cell_type": "markdown",
   "metadata": {
    "pycharm": {
     "name": "#%% md\n"
    }
   },
   "source": [
    "#### 7. Какой размер обучающей выборки необходим, чтобы достигнуть доли правильных ответов минимум 0.95?"
   ]
  },
  {
   "cell_type": "markdown",
   "metadata": {
    "pycharm": {
     "name": "#%% md\n"
    }
   },
   "source": [
    "Чтобы достичь 95% доли правильных ответов, необходимо примерно 640 входных значений в случае с 64-битным Арбитром \n",
    "и примерно 1350 входных значений в случае с 128-битным Арбитром.\n"
   ]
  },
  {
   "cell_type": "markdown",
   "metadata": {
    "pycharm": {
     "name": "#%% md\n"
    }
   },
   "source": [
    "#### 8. Как зависит доля правильных ответов от N?"
   ]
  },
  {
   "cell_type": "markdown",
   "metadata": {
    "pycharm": {
     "name": "#%% md\n"
    }
   },
   "source": [
    "Доля правильных ответов прямопропорционально зависит от количества входных пар запрос-ответ."
   ]
  },
  {
   "cell_type": "code",
   "execution_count": 12,
   "metadata": {
    "pycharm": {
     "is_executing": false,
     "name": "#%%\n"
    }
   },
   "outputs": [
    {
     "data": {
      "text/plain": [
       "Text(0.5, 0, 'N')"
      ]
     },
     "execution_count": 12,
     "metadata": {},
     "output_type": "execute_result"
    },
    {
     "data": {
      "image/png": "[encoded data removed]",
      "text/plain": [
       "<Figure size 432x288 with 1 Axes>"
      ]
     },
     "metadata": {
      "needs_background": "light"
     },
     "output_type": "display_data"
    }
   ],
   "source": [
    "learning_set_numbers = np.arange(100, 1000, 50)\n",
    "scores = []\n",
    "\n",
    "for i in learning_set_numbers:\n",
    "    N  = 32     # Size of the PUF\n",
    "    LS = i    # Size learning set\n",
    "    TS = 10000  # Size testing set\n",
    "    apuf = ArbiterPUF(N)\n",
    "    \n",
    "    # Creating training suite\n",
    "    learningX = [[random.choice([0,1]) for _ in range(N)] for _ in range(LS)] # Challenges\n",
    "    learningY = [apuf.get_output(chall) for chall in learningX] # Outputs PUF\n",
    "    \n",
    "    # Creating testing suite\n",
    "    testingX = [[random.choice([0,1]) for _ in range(N)] for _ in range(TS)] \n",
    "    testingY = [apuf.get_output(chall) for chall in testingX]\n",
    "    \n",
    "    # Convert challenges into feature vectors\n",
    "    learningX = [into_features_vect(c) for c in learningX]\n",
    "    testingX = [into_features_vect(c) for c in testingX]\n",
    "    \n",
    "    # Prediction\n",
    "    lr = LogisticRegression()\n",
    "    lr.fit(learningX, learningY)\n",
    "    scores.append(lr.score(testingX, testingY))\n",
    "\n",
    "plt.plot(learning_set_numbers, scores, LineWidth=2)\n",
    "plt.ylabel('Accuracy')\n",
    "plt.xlabel('N')"
   ]
  }
 ],
 "metadata": {
  "kernelspec": {
   "display_name": "Python 3",
   "language": "python",
   "name": "python3"
  },
  "language_info": {
   "codemirror_mode": {
    "name": "ipython",
    "version": 3
   },
   "file_extension": ".py",
   "mimetype": "text/x-python",
   "name": "python",
   "nbconvert_exporter": "python",
   "pygments_lexer": "ipython3",
   "version": "3.7.3"
  },
  "pycharm": {
   "stem_cell": {
    "cell_type": "raw",
    "metadata": {
     "collapsed": false
    },
    "source": []
   }
  }
 },
 "nbformat": 4,
 "nbformat_minor": 1
}
